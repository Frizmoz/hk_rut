{
 "cells": [
  {
   "cell_type": "code",
   "execution_count": 2,
   "metadata": {},
   "outputs": [
    {
     "name": "stdout",
     "output_type": "stream",
     "text": [
      "Running on local URL:  http://127.0.0.1:7861\n",
      "\n",
      "To create a public link, set `share=True` in `launch()`.\n"
     ]
    },
    {
     "data": {
      "text/html": [
       "<div><iframe src=\"http://127.0.0.1:7861/\" width=\"100%\" height=\"500\" allow=\"autoplay; camera; microphone; clipboard-read; clipboard-write;\" frameborder=\"0\" allowfullscreen></iframe></div>"
      ],
      "text/plain": [
       "<IPython.core.display.HTML object>"
      ]
     },
     "metadata": {},
     "output_type": "display_data"
    }
   ],
   "source": [
    "import pandas as pd\n",
    "from catboost import CatBoostClassifier\n",
    "import gradio as gr\n",
    "from gradio.components import File, Dataframe\n",
    "\n",
    "# Определяем пути к моделям\n",
    "SEX_MODEL_PATH = r'weights/29.09.050_sex_model.cbm'  \n",
    "AGE_MODEL_PATH = r'weights/29.09.050_age_model.cbm'  \n",
    "\n",
    "def load_models():\n",
    "    sex_model = CatBoostClassifier()\n",
    "    sex_model.load_model(SEX_MODEL_PATH)  # Загрузка модели пола\n",
    "    age_model = CatBoostClassifier()\n",
    "    age_model.load_model(AGE_MODEL_PATH)  # Загрузка модели возраста\n",
    "    return sex_model, age_model\n",
    "\n",
    "def create_features_and_predict(df):\n",
    "    # Проверка входных данных\n",
    "    if not all(col in df.columns for col in ['event_timestamp', 'region', 'ua_device_type',\n",
    "                                              'ua_client_type', 'ua_os', 'ua_client_name', \n",
    "                                              'total_watchtime', 'rutube_video_id', 'viewer_uid']):\n",
    "        raise ValueError(\"Input dataframe must contain specified columns.\")\n",
    "\n",
    "    # Создание нового столбца, который содержит количество просмотров для каждого пользователя\n",
    "    df['view_count'] = df.groupby('viewer_uid')['viewer_uid'].transform('count')\n",
    "\n",
    "    # Создать новый признак, который будет представлять собой суммарное время просмотра видео для каждого пользователя\n",
    "    df['total_watchtime_per_user'] = df.groupby('viewer_uid')['total_watchtime'].transform('sum')\n",
    "\n",
    "    # Выбор признаков для предсказания\n",
    "    features = df[['region', 'ua_device_type', 'ua_client_type', 'ua_client_name',\n",
    "                   'total_watchtime', 'rutube_video_id', 'viewer_uid', 'view_count',\n",
    "                   'total_watchtime_per_user']].copy()\n",
    "\n",
    "    # Загрузка моделей\n",
    "    sex_model, age_model = load_models()\n",
    "\n",
    "    # Предсказания пола\n",
    "    sex_predictions = sex_model.predict(features)\n",
    "    age_predictions = age_model.predict(features)\n",
    "\n",
    "    # Добавление предсказанных значений в DataFrame\n",
    "    df['sex'] = sex_predictions\n",
    "    df['age_class'] = age_predictions\n",
    "\n",
    "    # Выбор необходимых столбцов для сохранения\n",
    "    submission = df[['viewer_uid', 'sex', 'age_class']].drop_duplicates()\n",
    "\n",
    "    # Сохранение в файл submission.csv\n",
    "    submission.to_csv('submission.csv', index=False)\n",
    "    \n",
    "    return submission\n",
    "\n",
    "def load_data(file):\n",
    "    # Загрузка данных\n",
    "    df = pd.read_csv(file.name)\n",
    "    submission = create_features_and_predict(df)\n",
    "\n",
    "    # Возврат DataFrame для отображения\n",
    "    return submission\n",
    "\n",
    "# Определить интерфейс пользователя\n",
    "def interface():\n",
    "    inputs = File(label=\"Выберите файл c данными для загрузки\", file_types=['.csv', '.xlsx'])\n",
    "    outputs = Dataframe(label=\"Результаты предсказания\", interactive=True)  # Добавлено interactive=True\n",
    "    return gr.Interface(fn=load_data, inputs=inputs, outputs=outputs, title=\"Предсказание пола и возраста\")\n",
    "\n",
    "# Запустить интерфейс пользователя\n",
    "if __name__ == '__main__':  \n",
    "    app = interface()\n",
    "    app.launch()\n"
   ]
  }
 ],
 "metadata": {
  "kernelspec": {
   "display_name": "Python 3",
   "language": "python",
   "name": "python3"
  },
  "language_info": {
   "codemirror_mode": {
    "name": "ipython",
    "version": 3
   },
   "file_extension": ".py",
   "mimetype": "text/x-python",
   "name": "python",
   "nbconvert_exporter": "python",
   "pygments_lexer": "ipython3",
   "version": "3.11.9"
  }
 },
 "nbformat": 4,
 "nbformat_minor": 2
}
