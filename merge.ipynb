{
 "cells": [
  {
   "cell_type": "code",
   "execution_count": 1,
   "metadata": {},
   "outputs": [
    {
     "data": {
      "text/html": [
       "<div>\n",
       "<style scoped>\n",
       "    .dataframe tbody tr th:only-of-type {\n",
       "        vertical-align: middle;\n",
       "    }\n",
       "\n",
       "    .dataframe tbody tr th {\n",
       "        vertical-align: top;\n",
       "    }\n",
       "\n",
       "    .dataframe thead th {\n",
       "        text-align: right;\n",
       "    }\n",
       "</style>\n",
       "<table border=\"1\" class=\"dataframe\">\n",
       "  <thead>\n",
       "    <tr style=\"text-align: right;\">\n",
       "      <th></th>\n",
       "      <th>event_timestamp</th>\n",
       "      <th>region</th>\n",
       "      <th>ua_device_type</th>\n",
       "      <th>ua_client_type</th>\n",
       "      <th>ua_os</th>\n",
       "      <th>ua_client_name</th>\n",
       "      <th>total_watchtime</th>\n",
       "      <th>rutube_video_id</th>\n",
       "      <th>viewer_uid</th>\n",
       "      <th>age</th>\n",
       "      <th>sex</th>\n",
       "      <th>age_class</th>\n",
       "      <th>title</th>\n",
       "      <th>category</th>\n",
       "      <th>duration</th>\n",
       "      <th>author_id</th>\n",
       "    </tr>\n",
       "  </thead>\n",
       "  <tbody>\n",
       "    <tr>\n",
       "      <th>0</th>\n",
       "      <td>2024-06-01 06:40:58+03:00</td>\n",
       "      <td>Chelyabinsk</td>\n",
       "      <td>desktop</td>\n",
       "      <td>browser</td>\n",
       "      <td>Windows</td>\n",
       "      <td>Yandex Browser</td>\n",
       "      <td>1883</td>\n",
       "      <td>video_133074</td>\n",
       "      <td>10067243</td>\n",
       "      <td>20</td>\n",
       "      <td>female</td>\n",
       "      <td>0</td>\n",
       "      <td>Папа с особенностями. Мужское / Женское. Выпус...</td>\n",
       "      <td>Телепередачи</td>\n",
       "      <td>2456534</td>\n",
       "      <td>1009219</td>\n",
       "    </tr>\n",
       "    <tr>\n",
       "      <th>1</th>\n",
       "      <td>2024-06-01 19:33:24+03:00</td>\n",
       "      <td>Bashkortostan Republic</td>\n",
       "      <td>smartphone</td>\n",
       "      <td>mobile app</td>\n",
       "      <td>Android</td>\n",
       "      <td>Rutube</td>\n",
       "      <td>512</td>\n",
       "      <td>video_362960</td>\n",
       "      <td>10245341</td>\n",
       "      <td>40</td>\n",
       "      <td>female</td>\n",
       "      <td>2</td>\n",
       "      <td>Comedy Club: Мальдивы | Андрей Бебуришвили</td>\n",
       "      <td>Юмор</td>\n",
       "      <td>519211</td>\n",
       "      <td>1006760</td>\n",
       "    </tr>\n",
       "    <tr>\n",
       "      <th>2</th>\n",
       "      <td>2024-06-01 21:30:43+03:00</td>\n",
       "      <td>St.-Petersburg</td>\n",
       "      <td>desktop</td>\n",
       "      <td>browser</td>\n",
       "      <td>Windows</td>\n",
       "      <td>Chrome</td>\n",
       "      <td>5647</td>\n",
       "      <td>video_96775</td>\n",
       "      <td>10894333</td>\n",
       "      <td>23</td>\n",
       "      <td>male</td>\n",
       "      <td>1</td>\n",
       "      <td>Новая Битва экстрасенсов, 24 сезон, 11 выпуск</td>\n",
       "      <td>Телепередачи</td>\n",
       "      <td>5518280</td>\n",
       "      <td>1009257</td>\n",
       "    </tr>\n",
       "    <tr>\n",
       "      <th>3</th>\n",
       "      <td>2024-06-01 23:03:42+03:00</td>\n",
       "      <td>Moscow</td>\n",
       "      <td>smartphone</td>\n",
       "      <td>mobile app</td>\n",
       "      <td>Android</td>\n",
       "      <td>Rutube</td>\n",
       "      <td>1521</td>\n",
       "      <td>video_161610</td>\n",
       "      <td>10029092</td>\n",
       "      <td>41</td>\n",
       "      <td>male</td>\n",
       "      <td>3</td>\n",
       "      <td>Сергей Орлов-снял дом!!!</td>\n",
       "      <td>Разное</td>\n",
       "      <td>1522069</td>\n",
       "      <td>1058671</td>\n",
       "    </tr>\n",
       "    <tr>\n",
       "      <th>4</th>\n",
       "      <td>2024-06-01 22:48:09+03:00</td>\n",
       "      <td>Moscow</td>\n",
       "      <td>smartphone</td>\n",
       "      <td>mobile app</td>\n",
       "      <td>Android</td>\n",
       "      <td>Rutube</td>\n",
       "      <td>71</td>\n",
       "      <td>video_116245</td>\n",
       "      <td>10452976</td>\n",
       "      <td>38</td>\n",
       "      <td>female</td>\n",
       "      <td>2</td>\n",
       "      <td>Ищем сокровища в Полевском | Уральская Флоренц...</td>\n",
       "      <td>Путешествия</td>\n",
       "      <td>1249920</td>\n",
       "      <td>1020020</td>\n",
       "    </tr>\n",
       "  </tbody>\n",
       "</table>\n",
       "</div>"
      ],
      "text/plain": [
       "             event_timestamp                  region ua_device_type  \\\n",
       "0  2024-06-01 06:40:58+03:00             Chelyabinsk        desktop   \n",
       "1  2024-06-01 19:33:24+03:00  Bashkortostan Republic     smartphone   \n",
       "2  2024-06-01 21:30:43+03:00          St.-Petersburg        desktop   \n",
       "3  2024-06-01 23:03:42+03:00                  Moscow     smartphone   \n",
       "4  2024-06-01 22:48:09+03:00                  Moscow     smartphone   \n",
       "\n",
       "  ua_client_type    ua_os  ua_client_name  total_watchtime rutube_video_id  \\\n",
       "0        browser  Windows  Yandex Browser             1883    video_133074   \n",
       "1     mobile app  Android          Rutube              512    video_362960   \n",
       "2        browser  Windows          Chrome             5647     video_96775   \n",
       "3     mobile app  Android          Rutube             1521    video_161610   \n",
       "4     mobile app  Android          Rutube               71    video_116245   \n",
       "\n",
       "   viewer_uid  age     sex  age_class  \\\n",
       "0    10067243   20  female          0   \n",
       "1    10245341   40  female          2   \n",
       "2    10894333   23    male          1   \n",
       "3    10029092   41    male          3   \n",
       "4    10452976   38  female          2   \n",
       "\n",
       "                                               title      category  duration  \\\n",
       "0  Папа с особенностями. Мужское / Женское. Выпус...  Телепередачи   2456534   \n",
       "1         Comedy Club: Мальдивы | Андрей Бебуришвили          Юмор    519211   \n",
       "2      Новая Битва экстрасенсов, 24 сезон, 11 выпуск  Телепередачи   5518280   \n",
       "3                           Сергей Орлов-снял дом!!!        Разное   1522069   \n",
       "4  Ищем сокровища в Полевском | Уральская Флоренц...   Путешествия   1249920   \n",
       "\n",
       "   author_id  \n",
       "0    1009219  \n",
       "1    1006760  \n",
       "2    1009257  \n",
       "3    1058671  \n",
       "4    1020020  "
      ]
     },
     "execution_count": 1,
     "metadata": {},
     "output_type": "execute_result"
    }
   ],
   "source": [
    "import pandas as pd\n",
    "\n",
    "# Загрузка данных\n",
    "all_events = pd.read_csv('all_events.csv')\n",
    "train_events = pd.read_csv('train_events.csv')\n",
    "video_info = pd.read_csv('video_info_v2.csv')\n",
    "train_targets = pd.read_csv('train_targets.csv')\n",
    "\n",
    "# Объединение таблицы train_events с train_targets по столбцу viewer_uid\n",
    "train_data = pd.merge(train_events, train_targets, on='viewer_uid', how='left')\n",
    "\n",
    "# Объединение с таблицей video_info по столбцу rutube_video_id\n",
    "train_data_full = pd.merge(train_data, video_info, on='rutube_video_id', how='left')\n",
    "\n",
    "train_data_full.head()\n"
   ]
  },
  {
   "cell_type": "code",
   "execution_count": 2,
   "metadata": {},
   "outputs": [
    {
     "name": "stdout",
     "output_type": "stream",
     "text": [
      "all_events: (8439624, 9)\n",
      "train_events: (1759616, 9)\n",
      "video_info: (481480, 5)\n",
      "train_targets: (180012, 4)\n",
      "train_data_full: (1759616, 16)\n"
     ]
    }
   ],
   "source": [
    "print(\"all_events:\",all_events.shape)\n",
    "print(\"train_events:\",train_events.shape)\n",
    "print(\"video_info:\",video_info.shape)\n",
    "print(\"train_targets:\",train_targets.shape)\n",
    "print(\"train_data_full:\",train_data_full.shape)"
   ]
  },
  {
   "cell_type": "code",
   "execution_count": 3,
   "metadata": {},
   "outputs": [
    {
     "data": {
      "text/plain": [
       "event_timestamp         0\n",
       "region                  0\n",
       "ua_device_type          0\n",
       "ua_client_type          0\n",
       "ua_os              117671\n",
       "ua_client_name          0\n",
       "total_watchtime         0\n",
       "rutube_video_id         0\n",
       "viewer_uid              0\n",
       "age                     0\n",
       "sex                     0\n",
       "age_class               0\n",
       "title                   0\n",
       "category                0\n",
       "duration                0\n",
       "author_id               0\n",
       "dtype: int64"
      ]
     },
     "execution_count": 3,
     "metadata": {},
     "output_type": "execute_result"
    }
   ],
   "source": [
    "train_data_full.isna().sum()"
   ]
  },
  {
   "cell_type": "code",
   "execution_count": 4,
   "metadata": {},
   "outputs": [
    {
     "data": {
      "text/plain": [
       "event_timestamp    1233126\n",
       "region                 116\n",
       "ua_device_type           3\n",
       "ua_client_type           3\n",
       "ua_os                   28\n",
       "ua_client_name          60\n",
       "total_watchtime      14732\n",
       "rutube_video_id     126248\n",
       "viewer_uid          180012\n",
       "age                     44\n",
       "sex                      2\n",
       "age_class                4\n",
       "title               125130\n",
       "category                40\n",
       "duration             99237\n",
       "author_id            25698\n",
       "dtype: int64"
      ]
     },
     "execution_count": 4,
     "metadata": {},
     "output_type": "execute_result"
    }
   ],
   "source": [
    "train_data_full.nunique()"
   ]
  },
  {
   "cell_type": "code",
   "execution_count": 5,
   "metadata": {},
   "outputs": [
    {
     "data": {
      "text/plain": [
       "event_timestamp    object\n",
       "region             object\n",
       "ua_device_type     object\n",
       "ua_client_type     object\n",
       "ua_os              object\n",
       "ua_client_name     object\n",
       "total_watchtime     int64\n",
       "rutube_video_id    object\n",
       "viewer_uid          int64\n",
       "age                 int64\n",
       "sex                object\n",
       "age_class           int64\n",
       "title              object\n",
       "category           object\n",
       "duration            int64\n",
       "author_id           int64\n",
       "dtype: object"
      ]
     },
     "execution_count": 5,
     "metadata": {},
     "output_type": "execute_result"
    }
   ],
   "source": [
    "train_data_full.dtypes"
   ]
  },
  {
   "cell_type": "code",
   "execution_count": 6,
   "metadata": {},
   "outputs": [
    {
     "name": "stdout",
     "output_type": "stream",
     "text": [
      "   age_class  min  max\n",
      "0          0   11   20\n",
      "1          1   21   30\n",
      "2          2   31   40\n",
      "3          3   41   54\n"
     ]
    }
   ],
   "source": [
    "# Распредление возрастов в категориях\n",
    "import pandas as pd\n",
    "\n",
    "age_ranges = train_targets.groupby('age_class')['age'].agg(['min', 'max']).reset_index()\n",
    "print(age_ranges)\n"
   ]
  },
  {
   "cell_type": "code",
   "execution_count": null,
   "metadata": {},
   "outputs": [],
   "source": []
  }
 ],
 "metadata": {
  "kernelspec": {
   "display_name": "Python 3",
   "language": "python",
   "name": "python3"
  },
  "language_info": {
   "codemirror_mode": {
    "name": "ipython",
    "version": 3
   },
   "file_extension": ".py",
   "mimetype": "text/x-python",
   "name": "python",
   "nbconvert_exporter": "python",
   "pygments_lexer": "ipython3",
   "version": "3.11.9"
  }
 },
 "nbformat": 4,
 "nbformat_minor": 2
}
